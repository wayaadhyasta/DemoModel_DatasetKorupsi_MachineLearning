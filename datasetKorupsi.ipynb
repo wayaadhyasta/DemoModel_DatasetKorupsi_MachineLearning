{
  "nbformat": 4,
  "nbformat_minor": 0,
  "metadata": {
    "colab": {
      "provenance": [],
      "mount_file_id": "1aG3NNOdW864L5CJMibW8YjN5fMZR89T4",
      "authorship_tag": "ABX9TyMAJgNQEfArdHjsz16O3J8y",
      "include_colab_link": true
    },
    "kernelspec": {
      "name": "python3",
      "display_name": "Python 3"
    },
    "language_info": {
      "name": "python"
    }
  },
  "cells": [
    {
      "cell_type": "markdown",
      "metadata": {
        "id": "view-in-github",
        "colab_type": "text"
      },
      "source": [
        "<a href=\"https://colab.research.google.com/github/wayaadhyasta/DemoModel_DatasetKorupsi_MachineLearning/blob/main/datasetKorupsi.ipynb\" target=\"_parent\"><img src=\"https://colab.research.google.com/assets/colab-badge.svg\" alt=\"Open In Colab\"/></a>"
      ]
    },
    {
      "cell_type": "code",
      "execution_count": null,
      "metadata": {
        "id": "uh0kZXzNFeRr"
      },
      "outputs": [],
      "source": [
        "import pandas as pd\n",
        "import numpy as np\n",
        "import matplotlib.pyplot as plt\n",
        "import seaborn as sns\n",
        "from sklearn.linear_model import LinearRegression\n",
        "from sklearn.model_selection import train_test_split\n",
        "from sklearn.preprocessing import LabelEncoder, StandardScaler\n",
        "from sklearn.ensemble import RandomForestClassifier, IsolationForest\n",
        "from sklearn.cluster import KMeans\n",
        "from sklearn.linear_model import LogisticRegression\n",
        "from sklearn.svm import OneClassSVM\n",
        "from sklearn.metrics import accuracy_score, classification_report, mean_absolute_error, mean_squared_error\n",
        "from sklearn.feature_extraction.text import TfidfVectorizer\n",
        "from sklearn.naive_bayes import MultinomialNB"
      ]
    },
    {
      "cell_type": "markdown",
      "source": [],
      "metadata": {
        "id": "JoHUvFEnI8Fz"
      }
    },
    {
      "cell_type": "code",
      "source": [
        "dt = pd.read_csv('/content/drive/MyDrive/dataset_korupsi_indonesia_final.csv')\n",
        "dt"
      ],
      "metadata": {
        "colab": {
          "base_uri": "https://localhost:8080/",
          "height": 519
        },
        "id": "WgSOwRTLLl4j",
        "outputId": "6ace8449-4d42-4292-ddc6-cbe21fc78f35"
      },
      "execution_count": null,
      "outputs": [
        {
          "output_type": "execute_result",
          "data": {
            "text/plain": [
              "    ID Kasus   Nama Tersangka            Jabatan  ... Tahun Kasus  Nilai Korupsi (IDR)  Status Hukum\n",
              "0          1      Ahmad Fikri           Walikota  ...        2021           5000000000       Divonis\n",
              "1          2     Budi Santoso     Direktur Utama  ...        2020           7500000000     Tersangka\n",
              "2          3       Citra Dewi        Anggota DPR  ...        2019          12000000000       Divonis\n",
              "3          4    Dedy Prasetyo       Kepala Dinas  ...        2022           3000000000     Tersangka\n",
              "4          5         Eka Sari           Gubernur  ...        2023          10000000000       Divonis\n",
              "5          6    Fajar Hidayat             Bupati  ...        2018           2500000000         Bebas\n",
              "6          7       Gita Rahma  Sekretaris Daerah  ...        2021           6000000000       Divonis\n",
              "7          8    Hendra Kusuma  Direktur Keuangan  ...        2020           4500000000     Tersangka\n",
              "8          9  Indra Kurniawan       Ketua Partai  ...        2017          15000000000       Divonis\n",
              "9         10      Joko Susilo           Walikota  ...        2019           8000000000       Divonis\n",
              "10        11     Farhan Putra             Bupati  ...        2024           8500000000     Tersangka\n",
              "11        12     Gita Lestari  Direktur Keuangan  ...        2024           9200000000    Penyidikan\n",
              "12        13    Hendro Wijaya            Menteri  ...        2025          15000000000       Divonis\n",
              "13        14    Indra Saputra       Kepala Dinas  ...        2025           6700000000     Tersangka\n",
              "14        15    Rudi Hartanto  Direktur Logistik  ...        2025          12000000000    Penyidikan\n",
              "\n",
              "[15 rows x 7 columns]"
            ],
            "text/html": [
              "\n",
              "  <div id=\"df-5af35a6f-e0ef-4739-9731-97d87d013c87\" class=\"colab-df-container\">\n",
              "    <div>\n",
              "<style scoped>\n",
              "    .dataframe tbody tr th:only-of-type {\n",
              "        vertical-align: middle;\n",
              "    }\n",
              "\n",
              "    .dataframe tbody tr th {\n",
              "        vertical-align: top;\n",
              "    }\n",
              "\n",
              "    .dataframe thead th {\n",
              "        text-align: right;\n",
              "    }\n",
              "</style>\n",
              "<table border=\"1\" class=\"dataframe\">\n",
              "  <thead>\n",
              "    <tr style=\"text-align: right;\">\n",
              "      <th></th>\n",
              "      <th>ID Kasus</th>\n",
              "      <th>Nama Tersangka</th>\n",
              "      <th>Jabatan</th>\n",
              "      <th>Institusi</th>\n",
              "      <th>Tahun Kasus</th>\n",
              "      <th>Nilai Korupsi (IDR)</th>\n",
              "      <th>Status Hukum</th>\n",
              "    </tr>\n",
              "  </thead>\n",
              "  <tbody>\n",
              "    <tr>\n",
              "      <th>0</th>\n",
              "      <td>1</td>\n",
              "      <td>Ahmad Fikri</td>\n",
              "      <td>Walikota</td>\n",
              "      <td>Pemerintah Kota Bandung</td>\n",
              "      <td>2021</td>\n",
              "      <td>5000000000</td>\n",
              "      <td>Divonis</td>\n",
              "    </tr>\n",
              "    <tr>\n",
              "      <th>1</th>\n",
              "      <td>2</td>\n",
              "      <td>Budi Santoso</td>\n",
              "      <td>Direktur Utama</td>\n",
              "      <td>BUMN Konstruksi</td>\n",
              "      <td>2020</td>\n",
              "      <td>7500000000</td>\n",
              "      <td>Tersangka</td>\n",
              "    </tr>\n",
              "    <tr>\n",
              "      <th>2</th>\n",
              "      <td>3</td>\n",
              "      <td>Citra Dewi</td>\n",
              "      <td>Anggota DPR</td>\n",
              "      <td>DPR RI</td>\n",
              "      <td>2019</td>\n",
              "      <td>12000000000</td>\n",
              "      <td>Divonis</td>\n",
              "    </tr>\n",
              "    <tr>\n",
              "      <th>3</th>\n",
              "      <td>4</td>\n",
              "      <td>Dedy Prasetyo</td>\n",
              "      <td>Kepala Dinas</td>\n",
              "      <td>Dinas Pendidikan Jakarta</td>\n",
              "      <td>2022</td>\n",
              "      <td>3000000000</td>\n",
              "      <td>Tersangka</td>\n",
              "    </tr>\n",
              "    <tr>\n",
              "      <th>4</th>\n",
              "      <td>5</td>\n",
              "      <td>Eka Sari</td>\n",
              "      <td>Gubernur</td>\n",
              "      <td>Provinsi Sumatera Utara</td>\n",
              "      <td>2023</td>\n",
              "      <td>10000000000</td>\n",
              "      <td>Divonis</td>\n",
              "    </tr>\n",
              "    <tr>\n",
              "      <th>5</th>\n",
              "      <td>6</td>\n",
              "      <td>Fajar Hidayat</td>\n",
              "      <td>Bupati</td>\n",
              "      <td>Kabupaten Bogor</td>\n",
              "      <td>2018</td>\n",
              "      <td>2500000000</td>\n",
              "      <td>Bebas</td>\n",
              "    </tr>\n",
              "    <tr>\n",
              "      <th>6</th>\n",
              "      <td>7</td>\n",
              "      <td>Gita Rahma</td>\n",
              "      <td>Sekretaris Daerah</td>\n",
              "      <td>Provinsi Jawa Tengah</td>\n",
              "      <td>2021</td>\n",
              "      <td>6000000000</td>\n",
              "      <td>Divonis</td>\n",
              "    </tr>\n",
              "    <tr>\n",
              "      <th>7</th>\n",
              "      <td>8</td>\n",
              "      <td>Hendra Kusuma</td>\n",
              "      <td>Direktur Keuangan</td>\n",
              "      <td>BUMD Jakarta</td>\n",
              "      <td>2020</td>\n",
              "      <td>4500000000</td>\n",
              "      <td>Tersangka</td>\n",
              "    </tr>\n",
              "    <tr>\n",
              "      <th>8</th>\n",
              "      <td>9</td>\n",
              "      <td>Indra Kurniawan</td>\n",
              "      <td>Ketua Partai</td>\n",
              "      <td>Partai Politik Nasional</td>\n",
              "      <td>2017</td>\n",
              "      <td>15000000000</td>\n",
              "      <td>Divonis</td>\n",
              "    </tr>\n",
              "    <tr>\n",
              "      <th>9</th>\n",
              "      <td>10</td>\n",
              "      <td>Joko Susilo</td>\n",
              "      <td>Walikota</td>\n",
              "      <td>Pemerintah Kota Surabaya</td>\n",
              "      <td>2019</td>\n",
              "      <td>8000000000</td>\n",
              "      <td>Divonis</td>\n",
              "    </tr>\n",
              "    <tr>\n",
              "      <th>10</th>\n",
              "      <td>11</td>\n",
              "      <td>Farhan Putra</td>\n",
              "      <td>Bupati</td>\n",
              "      <td>Kabupaten Bogor</td>\n",
              "      <td>2024</td>\n",
              "      <td>8500000000</td>\n",
              "      <td>Tersangka</td>\n",
              "    </tr>\n",
              "    <tr>\n",
              "      <th>11</th>\n",
              "      <td>12</td>\n",
              "      <td>Gita Lestari</td>\n",
              "      <td>Direktur Keuangan</td>\n",
              "      <td>BUMN Energi</td>\n",
              "      <td>2024</td>\n",
              "      <td>9200000000</td>\n",
              "      <td>Penyidikan</td>\n",
              "    </tr>\n",
              "    <tr>\n",
              "      <th>12</th>\n",
              "      <td>13</td>\n",
              "      <td>Hendro Wijaya</td>\n",
              "      <td>Menteri</td>\n",
              "      <td>Kementerian Perdagangan</td>\n",
              "      <td>2025</td>\n",
              "      <td>15000000000</td>\n",
              "      <td>Divonis</td>\n",
              "    </tr>\n",
              "    <tr>\n",
              "      <th>13</th>\n",
              "      <td>14</td>\n",
              "      <td>Indra Saputra</td>\n",
              "      <td>Kepala Dinas</td>\n",
              "      <td>Dinas Kesehatan Surabaya</td>\n",
              "      <td>2025</td>\n",
              "      <td>6700000000</td>\n",
              "      <td>Tersangka</td>\n",
              "    </tr>\n",
              "    <tr>\n",
              "      <th>14</th>\n",
              "      <td>15</td>\n",
              "      <td>Rudi Hartanto</td>\n",
              "      <td>Direktur Logistik</td>\n",
              "      <td>Pertamina</td>\n",
              "      <td>2025</td>\n",
              "      <td>12000000000</td>\n",
              "      <td>Penyidikan</td>\n",
              "    </tr>\n",
              "  </tbody>\n",
              "</table>\n",
              "</div>\n",
              "    <div class=\"colab-df-buttons\">\n",
              "\n",
              "  <div class=\"colab-df-container\">\n",
              "    <button class=\"colab-df-convert\" onclick=\"convertToInteractive('df-5af35a6f-e0ef-4739-9731-97d87d013c87')\"\n",
              "            title=\"Convert this dataframe to an interactive table.\"\n",
              "            style=\"display:none;\">\n",
              "\n",
              "  <svg xmlns=\"http://www.w3.org/2000/svg\" height=\"24px\" viewBox=\"0 -960 960 960\">\n",
              "    <path d=\"M120-120v-720h720v720H120Zm60-500h600v-160H180v160Zm220 220h160v-160H400v160Zm0 220h160v-160H400v160ZM180-400h160v-160H180v160Zm440 0h160v-160H620v160ZM180-180h160v-160H180v160Zm440 0h160v-160H620v160Z\"/>\n",
              "  </svg>\n",
              "    </button>\n",
              "\n",
              "  <style>\n",
              "    .colab-df-container {\n",
              "      display:flex;\n",
              "      gap: 12px;\n",
              "    }\n",
              "\n",
              "    .colab-df-convert {\n",
              "      background-color: #E8F0FE;\n",
              "      border: none;\n",
              "      border-radius: 50%;\n",
              "      cursor: pointer;\n",
              "      display: none;\n",
              "      fill: #1967D2;\n",
              "      height: 32px;\n",
              "      padding: 0 0 0 0;\n",
              "      width: 32px;\n",
              "    }\n",
              "\n",
              "    .colab-df-convert:hover {\n",
              "      background-color: #E2EBFA;\n",
              "      box-shadow: 0px 1px 2px rgba(60, 64, 67, 0.3), 0px 1px 3px 1px rgba(60, 64, 67, 0.15);\n",
              "      fill: #174EA6;\n",
              "    }\n",
              "\n",
              "    .colab-df-buttons div {\n",
              "      margin-bottom: 4px;\n",
              "    }\n",
              "\n",
              "    [theme=dark] .colab-df-convert {\n",
              "      background-color: #3B4455;\n",
              "      fill: #D2E3FC;\n",
              "    }\n",
              "\n",
              "    [theme=dark] .colab-df-convert:hover {\n",
              "      background-color: #434B5C;\n",
              "      box-shadow: 0px 1px 3px 1px rgba(0, 0, 0, 0.15);\n",
              "      filter: drop-shadow(0px 1px 2px rgba(0, 0, 0, 0.3));\n",
              "      fill: #FFFFFF;\n",
              "    }\n",
              "  </style>\n",
              "\n",
              "    <script>\n",
              "      const buttonEl =\n",
              "        document.querySelector('#df-5af35a6f-e0ef-4739-9731-97d87d013c87 button.colab-df-convert');\n",
              "      buttonEl.style.display =\n",
              "        google.colab.kernel.accessAllowed ? 'block' : 'none';\n",
              "\n",
              "      async function convertToInteractive(key) {\n",
              "        const element = document.querySelector('#df-5af35a6f-e0ef-4739-9731-97d87d013c87');\n",
              "        const dataTable =\n",
              "          await google.colab.kernel.invokeFunction('convertToInteractive',\n",
              "                                                    [key], {});\n",
              "        if (!dataTable) return;\n",
              "\n",
              "        const docLinkHtml = 'Like what you see? Visit the ' +\n",
              "          '<a target=\"_blank\" href=https://colab.research.google.com/notebooks/data_table.ipynb>data table notebook</a>'\n",
              "          + ' to learn more about interactive tables.';\n",
              "        element.innerHTML = '';\n",
              "        dataTable['output_type'] = 'display_data';\n",
              "        await google.colab.output.renderOutput(dataTable, element);\n",
              "        const docLink = document.createElement('div');\n",
              "        docLink.innerHTML = docLinkHtml;\n",
              "        element.appendChild(docLink);\n",
              "      }\n",
              "    </script>\n",
              "  </div>\n",
              "\n",
              "\n",
              "<div id=\"df-c9946b92-38b5-45bd-8078-c7f0fe536d8c\">\n",
              "  <button class=\"colab-df-quickchart\" onclick=\"quickchart('df-c9946b92-38b5-45bd-8078-c7f0fe536d8c')\"\n",
              "            title=\"Suggest charts\"\n",
              "            style=\"display:none;\">\n",
              "\n",
              "<svg xmlns=\"http://www.w3.org/2000/svg\" height=\"24px\"viewBox=\"0 0 24 24\"\n",
              "     width=\"24px\">\n",
              "    <g>\n",
              "        <path d=\"M19 3H5c-1.1 0-2 .9-2 2v14c0 1.1.9 2 2 2h14c1.1 0 2-.9 2-2V5c0-1.1-.9-2-2-2zM9 17H7v-7h2v7zm4 0h-2V7h2v10zm4 0h-2v-4h2v4z\"/>\n",
              "    </g>\n",
              "</svg>\n",
              "  </button>\n",
              "\n",
              "<style>\n",
              "  .colab-df-quickchart {\n",
              "      --bg-color: #E8F0FE;\n",
              "      --fill-color: #1967D2;\n",
              "      --hover-bg-color: #E2EBFA;\n",
              "      --hover-fill-color: #174EA6;\n",
              "      --disabled-fill-color: #AAA;\n",
              "      --disabled-bg-color: #DDD;\n",
              "  }\n",
              "\n",
              "  [theme=dark] .colab-df-quickchart {\n",
              "      --bg-color: #3B4455;\n",
              "      --fill-color: #D2E3FC;\n",
              "      --hover-bg-color: #434B5C;\n",
              "      --hover-fill-color: #FFFFFF;\n",
              "      --disabled-bg-color: #3B4455;\n",
              "      --disabled-fill-color: #666;\n",
              "  }\n",
              "\n",
              "  .colab-df-quickchart {\n",
              "    background-color: var(--bg-color);\n",
              "    border: none;\n",
              "    border-radius: 50%;\n",
              "    cursor: pointer;\n",
              "    display: none;\n",
              "    fill: var(--fill-color);\n",
              "    height: 32px;\n",
              "    padding: 0;\n",
              "    width: 32px;\n",
              "  }\n",
              "\n",
              "  .colab-df-quickchart:hover {\n",
              "    background-color: var(--hover-bg-color);\n",
              "    box-shadow: 0 1px 2px rgba(60, 64, 67, 0.3), 0 1px 3px 1px rgba(60, 64, 67, 0.15);\n",
              "    fill: var(--button-hover-fill-color);\n",
              "  }\n",
              "\n",
              "  .colab-df-quickchart-complete:disabled,\n",
              "  .colab-df-quickchart-complete:disabled:hover {\n",
              "    background-color: var(--disabled-bg-color);\n",
              "    fill: var(--disabled-fill-color);\n",
              "    box-shadow: none;\n",
              "  }\n",
              "\n",
              "  .colab-df-spinner {\n",
              "    border: 2px solid var(--fill-color);\n",
              "    border-color: transparent;\n",
              "    border-bottom-color: var(--fill-color);\n",
              "    animation:\n",
              "      spin 1s steps(1) infinite;\n",
              "  }\n",
              "\n",
              "  @keyframes spin {\n",
              "    0% {\n",
              "      border-color: transparent;\n",
              "      border-bottom-color: var(--fill-color);\n",
              "      border-left-color: var(--fill-color);\n",
              "    }\n",
              "    20% {\n",
              "      border-color: transparent;\n",
              "      border-left-color: var(--fill-color);\n",
              "      border-top-color: var(--fill-color);\n",
              "    }\n",
              "    30% {\n",
              "      border-color: transparent;\n",
              "      border-left-color: var(--fill-color);\n",
              "      border-top-color: var(--fill-color);\n",
              "      border-right-color: var(--fill-color);\n",
              "    }\n",
              "    40% {\n",
              "      border-color: transparent;\n",
              "      border-right-color: var(--fill-color);\n",
              "      border-top-color: var(--fill-color);\n",
              "    }\n",
              "    60% {\n",
              "      border-color: transparent;\n",
              "      border-right-color: var(--fill-color);\n",
              "    }\n",
              "    80% {\n",
              "      border-color: transparent;\n",
              "      border-right-color: var(--fill-color);\n",
              "      border-bottom-color: var(--fill-color);\n",
              "    }\n",
              "    90% {\n",
              "      border-color: transparent;\n",
              "      border-bottom-color: var(--fill-color);\n",
              "    }\n",
              "  }\n",
              "</style>\n",
              "\n",
              "  <script>\n",
              "    async function quickchart(key) {\n",
              "      const quickchartButtonEl =\n",
              "        document.querySelector('#' + key + ' button');\n",
              "      quickchartButtonEl.disabled = true;  // To prevent multiple clicks.\n",
              "      quickchartButtonEl.classList.add('colab-df-spinner');\n",
              "      try {\n",
              "        const charts = await google.colab.kernel.invokeFunction(\n",
              "            'suggestCharts', [key], {});\n",
              "      } catch (error) {\n",
              "        console.error('Error during call to suggestCharts:', error);\n",
              "      }\n",
              "      quickchartButtonEl.classList.remove('colab-df-spinner');\n",
              "      quickchartButtonEl.classList.add('colab-df-quickchart-complete');\n",
              "    }\n",
              "    (() => {\n",
              "      let quickchartButtonEl =\n",
              "        document.querySelector('#df-c9946b92-38b5-45bd-8078-c7f0fe536d8c button');\n",
              "      quickchartButtonEl.style.display =\n",
              "        google.colab.kernel.accessAllowed ? 'block' : 'none';\n",
              "    })();\n",
              "  </script>\n",
              "</div>\n",
              "\n",
              "  <div id=\"id_9296be1f-7175-448d-9c98-f1418593ba78\">\n",
              "    <style>\n",
              "      .colab-df-generate {\n",
              "        background-color: #E8F0FE;\n",
              "        border: none;\n",
              "        border-radius: 50%;\n",
              "        cursor: pointer;\n",
              "        display: none;\n",
              "        fill: #1967D2;\n",
              "        height: 32px;\n",
              "        padding: 0 0 0 0;\n",
              "        width: 32px;\n",
              "      }\n",
              "\n",
              "      .colab-df-generate:hover {\n",
              "        background-color: #E2EBFA;\n",
              "        box-shadow: 0px 1px 2px rgba(60, 64, 67, 0.3), 0px 1px 3px 1px rgba(60, 64, 67, 0.15);\n",
              "        fill: #174EA6;\n",
              "      }\n",
              "\n",
              "      [theme=dark] .colab-df-generate {\n",
              "        background-color: #3B4455;\n",
              "        fill: #D2E3FC;\n",
              "      }\n",
              "\n",
              "      [theme=dark] .colab-df-generate:hover {\n",
              "        background-color: #434B5C;\n",
              "        box-shadow: 0px 1px 3px 1px rgba(0, 0, 0, 0.15);\n",
              "        filter: drop-shadow(0px 1px 2px rgba(0, 0, 0, 0.3));\n",
              "        fill: #FFFFFF;\n",
              "      }\n",
              "    </style>\n",
              "    <button class=\"colab-df-generate\" onclick=\"generateWithVariable('dt')\"\n",
              "            title=\"Generate code using this dataframe.\"\n",
              "            style=\"display:none;\">\n",
              "\n",
              "  <svg xmlns=\"http://www.w3.org/2000/svg\" height=\"24px\"viewBox=\"0 0 24 24\"\n",
              "       width=\"24px\">\n",
              "    <path d=\"M7,19H8.4L18.45,9,17,7.55,7,17.6ZM5,21V16.75L18.45,3.32a2,2,0,0,1,2.83,0l1.4,1.43a1.91,1.91,0,0,1,.58,1.4,1.91,1.91,0,0,1-.58,1.4L9.25,21ZM18.45,9,17,7.55Zm-12,3A5.31,5.31,0,0,0,4.9,8.1,5.31,5.31,0,0,0,1,6.5,5.31,5.31,0,0,0,4.9,4.9,5.31,5.31,0,0,0,6.5,1,5.31,5.31,0,0,0,8.1,4.9,5.31,5.31,0,0,0,12,6.5,5.46,5.46,0,0,0,6.5,12Z\"/>\n",
              "  </svg>\n",
              "    </button>\n",
              "    <script>\n",
              "      (() => {\n",
              "      const buttonEl =\n",
              "        document.querySelector('#id_9296be1f-7175-448d-9c98-f1418593ba78 button.colab-df-generate');\n",
              "      buttonEl.style.display =\n",
              "        google.colab.kernel.accessAllowed ? 'block' : 'none';\n",
              "\n",
              "      buttonEl.onclick = () => {\n",
              "        google.colab.notebook.generateWithVariable('dt');\n",
              "      }\n",
              "      })();\n",
              "    </script>\n",
              "  </div>\n",
              "\n",
              "    </div>\n",
              "  </div>\n"
            ],
            "application/vnd.google.colaboratory.intrinsic+json": {
              "type": "dataframe",
              "variable_name": "dt",
              "summary": "{\n  \"name\": \"dt\",\n  \"rows\": 15,\n  \"fields\": [\n    {\n      \"column\": \"ID Kasus\",\n      \"properties\": {\n        \"dtype\": \"number\",\n        \"std\": 4,\n        \"min\": 1,\n        \"max\": 15,\n        \"num_unique_values\": 15,\n        \"samples\": [\n          10,\n          12,\n          1\n        ],\n        \"semantic_type\": \"\",\n        \"description\": \"\"\n      }\n    },\n    {\n      \"column\": \"Nama Tersangka\",\n      \"properties\": {\n        \"dtype\": \"string\",\n        \"num_unique_values\": 15,\n        \"samples\": [\n          \"Joko Susilo\",\n          \"Gita Lestari\",\n          \"Ahmad Fikri\"\n        ],\n        \"semantic_type\": \"\",\n        \"description\": \"\"\n      }\n    },\n    {\n      \"column\": \"Jabatan\",\n      \"properties\": {\n        \"dtype\": \"string\",\n        \"num_unique_values\": 11,\n        \"samples\": [\n          \"Bupati\",\n          \"Walikota\",\n          \"Menteri\"\n        ],\n        \"semantic_type\": \"\",\n        \"description\": \"\"\n      }\n    },\n    {\n      \"column\": \"Institusi\",\n      \"properties\": {\n        \"dtype\": \"string\",\n        \"num_unique_values\": 14,\n        \"samples\": [\n          \"Pemerintah Kota Surabaya\",\n          \"Kementerian Perdagangan\",\n          \"Pemerintah Kota Bandung\"\n        ],\n        \"semantic_type\": \"\",\n        \"description\": \"\"\n      }\n    },\n    {\n      \"column\": \"Tahun Kasus\",\n      \"properties\": {\n        \"dtype\": \"number\",\n        \"std\": 2,\n        \"min\": 2017,\n        \"max\": 2025,\n        \"num_unique_values\": 9,\n        \"samples\": [\n          2024,\n          2020,\n          2018\n        ],\n        \"semantic_type\": \"\",\n        \"description\": \"\"\n      }\n    },\n    {\n      \"column\": \"Nilai Korupsi (IDR)\",\n      \"properties\": {\n        \"dtype\": \"number\",\n        \"std\": 3932731996,\n        \"min\": 2500000000,\n        \"max\": 15000000000,\n        \"num_unique_values\": 13,\n        \"samples\": [\n          9200000000,\n          8000000000,\n          5000000000\n        ],\n        \"semantic_type\": \"\",\n        \"description\": \"\"\n      }\n    },\n    {\n      \"column\": \"Status Hukum\",\n      \"properties\": {\n        \"dtype\": \"category\",\n        \"num_unique_values\": 4,\n        \"samples\": [\n          \"Tersangka\",\n          \"Penyidikan\",\n          \"Divonis\"\n        ],\n        \"semantic_type\": \"\",\n        \"description\": \"\"\n      }\n    }\n  ]\n}"
            }
          },
          "metadata": {},
          "execution_count": 64
        }
      ]
    },
    {
      "cell_type": "code",
      "source": [
        "le = LabelEncoder()\n",
        "dt['Status Hukum'] = le.fit_transform(dt['Status Hukum'])\n",
        "dt['Jabatan'] = le.fit_transform(dt['Jabatan'])\n",
        "dt['Institusi'] = le.fit_transform(dt['Institusi'])"
      ],
      "metadata": {
        "id": "1OJDXV1ST-7y"
      },
      "execution_count": null,
      "outputs": []
    },
    {
      "cell_type": "code",
      "source": [
        "x = dt[['Jabatan', 'Institusi','Tahun Kasus','Nilai Korupsi (IDR)']]\n",
        "y = dt[['Status Hukum']]\n",
        "x_train, x_test, y_train, y_test = train_test_split(x, y, test_size=0.2, random_state=42)"
      ],
      "metadata": {
        "id": "XpMju_h3NoBL"
      },
      "execution_count": null,
      "outputs": []
    },
    {
      "cell_type": "code",
      "source": [
        "lf = RandomForestClassifier(n_estimators=100, random_state=42)\n",
        "clf.fit(x_train, y_train)\n",
        "y_pred = clf.predict(x_test)\n",
        "print(\"Classification Report:\\n\", classification_report(y_test, y_pred))\n",
        "print(\"Accuracy Score:\", accuracy_score(y_test, y_pred))"
      ],
      "metadata": {
        "colab": {
          "base_uri": "https://localhost:8080/"
        },
        "id": "h9uclgYpUGp-",
        "outputId": "bda31f60-2964-4ba8-b833-1d9a7b3af7ef"
      },
      "execution_count": null,
      "outputs": [
        {
          "output_type": "stream",
          "name": "stdout",
          "text": [
            "Classification Report:\n",
            "               precision    recall  f1-score   support\n",
            "\n",
            "           1       1.00      1.00      1.00         2\n",
            "           2       0.00      0.00      0.00         1\n",
            "           3       0.00      0.00      0.00         0\n",
            "\n",
            "    accuracy                           0.67         3\n",
            "   macro avg       0.33      0.33      0.33         3\n",
            "weighted avg       0.67      0.67      0.67         3\n",
            "\n",
            "Accuracy Score: 0.6666666666666666\n"
          ]
        },
        {
          "output_type": "stream",
          "name": "stderr",
          "text": [
            "/usr/local/lib/python3.11/dist-packages/sklearn/base.py:1389: DataConversionWarning: A column-vector y was passed when a 1d array was expected. Please change the shape of y to (n_samples,), for example using ravel().\n",
            "  return fit_method(estimator, *args, **kwargs)\n",
            "/usr/local/lib/python3.11/dist-packages/sklearn/metrics/_classification.py:1565: UndefinedMetricWarning: Precision is ill-defined and being set to 0.0 in labels with no predicted samples. Use `zero_division` parameter to control this behavior.\n",
            "  _warn_prf(average, modifier, f\"{metric.capitalize()} is\", len(result))\n",
            "/usr/local/lib/python3.11/dist-packages/sklearn/metrics/_classification.py:1565: UndefinedMetricWarning: Recall is ill-defined and being set to 0.0 in labels with no true samples. Use `zero_division` parameter to control this behavior.\n",
            "  _warn_prf(average, modifier, f\"{metric.capitalize()} is\", len(result))\n",
            "/usr/local/lib/python3.11/dist-packages/sklearn/metrics/_classification.py:1565: UndefinedMetricWarning: Precision is ill-defined and being set to 0.0 in labels with no predicted samples. Use `zero_division` parameter to control this behavior.\n",
            "  _warn_prf(average, modifier, f\"{metric.capitalize()} is\", len(result))\n",
            "/usr/local/lib/python3.11/dist-packages/sklearn/metrics/_classification.py:1565: UndefinedMetricWarning: Recall is ill-defined and being set to 0.0 in labels with no true samples. Use `zero_division` parameter to control this behavior.\n",
            "  _warn_prf(average, modifier, f\"{metric.capitalize()} is\", len(result))\n",
            "/usr/local/lib/python3.11/dist-packages/sklearn/metrics/_classification.py:1565: UndefinedMetricWarning: Precision is ill-defined and being set to 0.0 in labels with no predicted samples. Use `zero_division` parameter to control this behavior.\n",
            "  _warn_prf(average, modifier, f\"{metric.capitalize()} is\", len(result))\n",
            "/usr/local/lib/python3.11/dist-packages/sklearn/metrics/_classification.py:1565: UndefinedMetricWarning: Recall is ill-defined and being set to 0.0 in labels with no true samples. Use `zero_division` parameter to control this behavior.\n",
            "  _warn_prf(average, modifier, f\"{metric.capitalize()} is\", len(result))\n"
          ]
        }
      ]
    },
    {
      "cell_type": "code",
      "source": [
        "print('Data Overview: \\n', dt.info())\n",
        "print('\\nNull Values: \\n', dt.isnull().sum())\n",
        "print('\\nDescriptive Statistics:\\n', dt.describe())"
      ],
      "metadata": {
        "colab": {
          "base_uri": "https://localhost:8080/"
        },
        "id": "9lEdNjjwO-G1",
        "outputId": "5303eb29-e28d-4d87-aed1-1a3d5e8e5df9"
      },
      "execution_count": null,
      "outputs": [
        {
          "output_type": "stream",
          "name": "stdout",
          "text": [
            "<class 'pandas.core.frame.DataFrame'>\n",
            "RangeIndex: 15 entries, 0 to 14\n",
            "Data columns (total 7 columns):\n",
            " #   Column               Non-Null Count  Dtype \n",
            "---  ------               --------------  ----- \n",
            " 0   ID Kasus             15 non-null     int64 \n",
            " 1   Nama Tersangka       15 non-null     object\n",
            " 2   Jabatan              15 non-null     int64 \n",
            " 3   Institusi            15 non-null     int64 \n",
            " 4   Tahun Kasus          15 non-null     int64 \n",
            " 5   Nilai Korupsi (IDR)  15 non-null     int64 \n",
            " 6   Status Hukum         15 non-null     int64 \n",
            "dtypes: int64(6), object(1)\n",
            "memory usage: 972.0+ bytes\n",
            "Data Overview: \n",
            " None\n",
            "\n",
            "Null Values: \n",
            " ID Kasus               0\n",
            "Nama Tersangka         0\n",
            "Jabatan                0\n",
            "Institusi              0\n",
            "Tahun Kasus            0\n",
            "Nilai Korupsi (IDR)    0\n",
            "Status Hukum           0\n",
            "dtype: int64\n",
            "\n",
            "Descriptive Statistics:\n",
            "         ID Kasus    Jabatan  Institusi  Tahun Kasus  Nilai Korupsi (IDR)  Status Hukum\n",
            "count  15.000000  15.000000  15.000000    15.000000         1.500000e+01     15.000000\n",
            "mean    8.000000   4.933333   6.466667  2021.533333         8.326667e+09      1.733333\n",
            "std     4.472136   3.390463   4.033196     2.695676         3.932732e+09      1.032796\n",
            "min     1.000000   0.000000   0.000000  2017.000000         2.500000e+09      0.000000\n",
            "25%     4.500000   2.000000   3.500000  2019.500000         5.500000e+09      1.000000\n",
            "50%     8.000000   5.000000   6.000000  2021.000000         8.000000e+09      1.000000\n",
            "75%    11.500000   7.500000   9.500000  2024.000000         1.100000e+10      3.000000\n",
            "max    15.000000  10.000000  13.000000  2025.000000         1.500000e+10      3.000000\n"
          ]
        }
      ]
    },
    {
      "cell_type": "code",
      "source": [
        "plt.figure(figsize=(10, 6))\n",
        "sns.histplot(dt['Nilai Korupsi (IDR)'], bins=30, kde=True)\n",
        "plt.title('Distribution of Korupsi Values Indonesia')\n",
        "plt.xlabel('Korupsi Value')\n",
        "plt.ylabel('Frequency')\n",
        "plt.show()"
      ],
      "metadata": {
        "colab": {
          "base_uri": "https://localhost:8080/",
          "height": 564
        },
        "id": "vwSAxH2GPbl0",
        "outputId": "101cd955-aa58-419e-e2d5-170a7410a979"
      },
      "execution_count": null,
      "outputs": [
        {
          "output_type": "display_data",
          "data": {
            "text/plain": [
              "<Figure size 1000x600 with 1 Axes>"
            ],
            "image/png": "[encoded data removed]"
          },
          "metadata": {}
        }
      ]
    },
    {
      "cell_type": "code",
      "source": [
        "plt.figure(figsize=(10, 6))\n",
        "sns.countplot(data=dt, x='Tahun Kasus', palette='coolwarm')\n",
        "plt.title('jumlah kasus korupsi per Tahun')\n",
        "plt.xlabel('Tahun Hukum')\n",
        "plt.ylabel('Jumlah Kasus')\n",
        "plt.xticks(rotation=45)\n",
        "plt.show()"
      ],
      "metadata": {
        "colab": {
          "base_uri": "https://localhost:8080/",
          "height": 697
        },
        "id": "hSuff-TNQJCT",
        "outputId": "0269972a-d3f0-4c01-bfd2-15918e3aba60"
      },
      "execution_count": null,
      "outputs": [
        {
          "output_type": "stream",
          "name": "stderr",
          "text": [
            "<ipython-input-70-59b5f9f9ea80>:2: FutureWarning: \n",
            "\n",
            "Passing `palette` without assigning `hue` is deprecated and will be removed in v0.14.0. Assign the `x` variable to `hue` and set `legend=False` for the same effect.\n",
            "\n",
            "  sns.countplot(data=dt, x='Tahun Kasus', palette='coolwarm')\n"
          ]
        },
        {
          "output_type": "display_data",
          "data": {
            "text/plain": [
              "<Figure size 1000x600 with 1 Axes>"
            ],
            "image/png": "[encoded data removed]"
          },
          "metadata": {}
        }
      ]
    },
    {
      "cell_type": "code",
      "source": [
        "top_korupsi = dt.nlargest(10, 'Nilai Korupsi (IDR)')\n",
        "print('Top 10 Kasus Korupsi Terbesar:\\n', top_korupsi[['Institusi','Nilai Korupsi (IDR)','Tahun Kasus']])"
      ],
      "metadata": {
        "colab": {
          "base_uri": "https://localhost:8080/"
        },
        "id": "CAydjyZgRBfy",
        "outputId": "85b06147-38df-43b7-daf2-7fbc4ebb21a9"
      },
      "execution_count": null,
      "outputs": [
        {
          "output_type": "stream",
          "name": "stdout",
          "text": [
            "Top 10 Kasus Korupsi Terbesar:\n",
            "     Institusi  Nilai Korupsi (IDR)  Tahun Kasus\n",
            "8           8          15000000000         2017\n",
            "12          7          15000000000         2025\n",
            "2           3          12000000000         2019\n",
            "14         11          12000000000         2025\n",
            "4          13          10000000000         2023\n",
            "11          1           9200000000         2024\n",
            "10          6           8500000000         2024\n",
            "9          10           8000000000         2019\n",
            "1           2           7500000000         2020\n",
            "13          4           6700000000         2025\n"
          ]
        }
      ]
    },
    {
      "cell_type": "code",
      "source": [
        "plt.figure(figsize=(10, 5))\n",
        "sns.histplot(top_korupsi['Nilai Korupsi (IDR)'], bins=10, kde=True, color='red')\n",
        "plt.title(\"Distribusi Nilai Korupsi Tertinggi\")\n",
        "plt.xlabel(\"Nilai Korupsi (IDR)\")\n",
        "plt.ylabel(\"Frekuensi\")\n",
        "plt.show"
      ],
      "metadata": {
        "colab": {
          "base_uri": "https://localhost:8080/",
          "height": 657
        },
        "id": "53fjKKYja1a5",
        "outputId": "b1a7761b-8991-46bb-aeea-89c08cca7f36"
      },
      "execution_count": null,
      "outputs": [
        {
          "output_type": "execute_result",
          "data": {
            "text/plain": [
              "<function matplotlib.pyplot.show(close=None, block=None)>"
            ],
            "text/html": [
              "<div style=\"max-width:800px; border: 1px solid var(--colab-border-color);\"><style>\n",
              "      pre.function-repr-contents {\n",
              "        overflow-x: auto;\n",
              "        padding: 8px 12px;\n",
              "        max-height: 500px;\n",
              "      }\n",
              "\n",
              "      pre.function-repr-contents.function-repr-contents-collapsed {\n",
              "        cursor: pointer;\n",
              "        max-height: 100px;\n",
              "      }\n",
              "    </style>\n",
              "    <pre style=\"white-space: initial; background:\n",
              "         var(--colab-secondary-surface-color); padding: 8px 12px;\n",
              "         border-bottom: 1px solid var(--colab-border-color);\"><b>matplotlib.pyplot.show</b><br/>def show(*args, **kwargs) -&gt; None</pre><pre class=\"function-repr-contents function-repr-contents-collapsed\" style=\"\"><a class=\"filepath\" style=\"display:none\" href=\"#\">/usr/local/lib/python3.11/dist-packages/matplotlib/pyplot.py</a>Display all open figures.\n",
              "\n",
              "Parameters\n",
              "----------\n",
              "block : bool, optional\n",
              "    Whether to wait for all figures to be closed before returning.\n",
              "\n",
              "    If `True` block and run the GUI main loop until all figure windows\n",
              "    are closed.\n",
              "\n",
              "    If `False` ensure that all figure windows are displayed and return\n",
              "    immediately.  In this case, you are responsible for ensuring\n",
              "    that the event loop is running to have responsive figures.\n",
              "\n",
              "    Defaults to True in non-interactive mode and to False in interactive\n",
              "    mode (see `.pyplot.isinteractive`).\n",
              "\n",
              "See Also\n",
              "--------\n",
              "ion : Enable interactive mode, which shows / updates the figure after\n",
              "      every plotting command, so that calling ``show()`` is not necessary.\n",
              "ioff : Disable interactive mode.\n",
              "savefig : Save the figure to an image file instead of showing it on screen.\n",
              "\n",
              "Notes\n",
              "-----\n",
              "**Saving figures to file and showing a window at the same time**\n",
              "\n",
              "If you want an image file as well as a user interface window, use\n",
              "`.pyplot.savefig` before `.pyplot.show`. At the end of (a blocking)\n",
              "``show()`` the figure is closed and thus unregistered from pyplot. Calling\n",
              "`.pyplot.savefig` afterwards would save a new and thus empty figure. This\n",
              "limitation of command order does not apply if the show is non-blocking or\n",
              "if you keep a reference to the figure and use `.Figure.savefig`.\n",
              "\n",
              "**Auto-show in jupyter notebooks**\n",
              "\n",
              "The jupyter backends (activated via ``%matplotlib inline``,\n",
              "``%matplotlib notebook``, or ``%matplotlib widget``), call ``show()`` at\n",
              "the end of every cell by default. Thus, you usually don&#x27;t have to call it\n",
              "explicitly there.</pre>\n",
              "      <script>\n",
              "      if (google.colab.kernel.accessAllowed && google.colab.files && google.colab.files.view) {\n",
              "        for (const element of document.querySelectorAll('.filepath')) {\n",
              "          element.style.display = 'block'\n",
              "          element.onclick = (event) => {\n",
              "            event.preventDefault();\n",
              "            event.stopPropagation();\n",
              "            google.colab.files.view(element.textContent, 569);\n",
              "          };\n",
              "        }\n",
              "      }\n",
              "      for (const element of document.querySelectorAll('.function-repr-contents')) {\n",
              "        element.onclick = (event) => {\n",
              "          event.preventDefault();\n",
              "          event.stopPropagation();\n",
              "          element.classList.toggle('function-repr-contents-collapsed');\n",
              "        };\n",
              "      }\n",
              "      </script>\n",
              "      </div>"
            ]
          },
          "metadata": {},
          "execution_count": 72
        },
        {
          "output_type": "display_data",
          "data": {
            "text/plain": [
              "<Figure size 1000x500 with 1 Axes>"
            ],
            "image/png": "[encoded data removed]"
          },
          "metadata": {}
        }
      ]
    },
    {
      "cell_type": "code",
      "source": [
        "kmeans = KMeans(n_clusters=3, random_state=42)\n",
        "dt['Cluster'] = kmeans.fit_predict(x)\n",
        "# sns.scatterplot(x=dt['Nilai Korupsi (IDR)'], y=['Tahun Kasus'], hue=['Cluster'], pelette='viridis')\n",
        "sns.scatterplot(data=dt, x='Nilai Korupsi (IDR)', y='Tahun Kasus', hue='Cluster', palette='viridis') # Added data=dt\n",
        "plt.title('Cluster Kasus Korupsi Indonesia')\n",
        "plt.xlabel('Nilai Korupsi')\n",
        "plt.ylabel('Tahun Kasus')\n",
        "plt.show()"
      ],
      "metadata": {
        "colab": {
          "base_uri": "https://localhost:8080/",
          "height": 472
        },
        "id": "jgZnWhs9S0t7",
        "outputId": "ca8c7a73-f329-4a6e-f9ab-3e19a147fc5d"
      },
      "execution_count": null,
      "outputs": [
        {
          "output_type": "display_data",
          "data": {
            "text/plain": [
              "<Figure size 640x480 with 1 Axes>"
            ],
            "image/png": "[encoded data removed]"
          },
          "metadata": {}
        }
      ]
    },
    {
      "cell_type": "code",
      "source": [
        "!pip install LinearRegression"
      ],
      "metadata": {
        "colab": {
          "base_uri": "https://localhost:8080/"
        },
        "id": "b3Ew1k91XLtn",
        "outputId": "2dbaeab8-a585-4512-ef5d-2086b5cc6412"
      },
      "execution_count": null,
      "outputs": [
        {
          "output_type": "stream",
          "name": "stdout",
          "text": [
            "Requirement already satisfied: LinearRegression in /usr/local/lib/python3.11/dist-packages (0.0.1)\n"
          ]
        }
      ]
    },
    {
      "cell_type": "code",
      "source": [
        "x_reg = dt[['Jabatan', 'Institusi', 'Tahun Kasus']]\n",
        "y_reg = dt['Nilai Korupsi (IDR)']\n",
        "x_train_reg, x_test_reg, y_train_reg, y_test_reg = train_test_split(x_reg, y_reg, test_size=0.2, random_state=42)\n",
        "reg = LinearRegression()\n",
        "reg.fit(x_train_reg, y_train_reg)\n",
        "y_pred_reg = reg.predict(x_test_reg)\n",
        "print('Regresi Score:', reg.score(x_train_reg, y_train_reg))\n",
        "print('Mean Absolute Error:', mean_absolute_error(y_test_reg, y_pred_reg))\n",
        "print('Mean Squared Error:', mean_squared_error(y_test_reg, y_pred_reg))"
      ],
      "metadata": {
        "colab": {
          "base_uri": "https://localhost:8080/"
        },
        "id": "at9pPtsyUsa_",
        "outputId": "a3faa56c-96da-4634-efda-e9f110050008"
      },
      "execution_count": null,
      "outputs": [
        {
          "output_type": "stream",
          "name": "stdout",
          "text": [
            "Regresi Score: 0.10345035129648017\n",
            "Mean Absolute Error: 2957407147.2931113\n",
            "Mean Squared Error: 1.0481223184087702e+19\n"
          ]
        }
      ]
    },
    {
      "cell_type": "code",
      "source": [
        "iso_forest = IsolationForest(contamination=0.1, random_state=42)\n",
        "dt['Anomaly'] = iso_forest.fit_predict(x)\n",
        "anomalies = dt[dt['Anomaly'] ==-1 ]\n",
        "print('Anomalies:\\n', anomalies)\n",
        "sns.scatterplot(x=dt['Nilai Korupsi (IDR)'], y=dt['Tahun Kasus'], hue=dt['Anomaly'], palette='coolwarm')\n",
        "plt.title('Anomalies Detection')\n",
        "plt.xlabel('Korupsi Value')\n",
        "plt.ylabel('Tahun Kasus')\n",
        "plt.show()"
      ],
      "metadata": {
        "colab": {
          "base_uri": "https://localhost:8080/",
          "height": 583
        },
        "id": "71D5H-nvXsZg",
        "outputId": "640df662-393c-4c99-c0f3-a5011258bf05"
      },
      "execution_count": null,
      "outputs": [
        {
          "output_type": "stream",
          "name": "stdout",
          "text": [
            "Anomalies:\n",
            "    ID Kasus   Nama Tersangka  Jabatan  ...  Status Hukum  Cluster  Anomaly\n",
            "2         3       Citra Dewi        0  ...             1        1       -1\n",
            "8         9  Indra Kurniawan        7  ...             1        1       -1\n",
            "\n",
            "[2 rows x 9 columns]\n"
          ]
        },
        {
          "output_type": "display_data",
          "data": {
            "text/plain": [
              "<Figure size 640x480 with 1 Axes>"
            ],
            "image/png": "[encoded data removed]"
          },
          "metadata": {}
        }
      ]
    },
    {
      "cell_type": "code",
      "source": [
        "text_data = [\"Kasus korupsi besar ditemukan di Jakarta\", \"Politikus terlibat dalam kasus suap\", \"Laporan keuangan menunjukkan indikasi korupsi\", \"Pemerintah mengumumkan kebijakan baru\"]\n",
        "labels = [1, 1, 0, 0]  # 1: Berita korupsi, 0: Bukan\n",
        "vectorizer = TfidfVectorizer()\n",
        "X_text = vectorizer.fit_transform(text_data)\n",
        "nb = MultinomialNB()\n",
        "nb.fit(X_text, labels)\n",
        "prediction = nb.predict(vectorizer.transform([\"Dana bansos diselewengkan oleh pejabat\"]))\n",
        "print(\"Prediksi Berita Korupsi:\", \"Korupsi\" if prediction[0] == 1 else \"Bukan Korupsi\")"
      ],
      "metadata": {
        "colab": {
          "base_uri": "https://localhost:8080/"
        },
        "id": "dLXsOplybVht",
        "outputId": "1f1724ef-4e96-410a-9d88-7daf68715a5d"
      },
      "execution_count": null,
      "outputs": [
        {
          "output_type": "stream",
          "name": "stdout",
          "text": [
            "Prediksi Berita Korupsi: Bukan Korupsi\n"
          ]
        }
      ]
    }
  ]
}